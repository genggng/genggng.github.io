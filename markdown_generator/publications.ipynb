{
 "cells": [
  {
   "attachments": {},
   "cell_type": "markdown",
   "metadata": {
    "deletable": true,
    "editable": true
   },
   "source": [
    "# Publications markdown generator for academicpages\n",
    "\n",
    "Takes a TSV of publications with metadata and converts them for use with [academicpages.github.io](academicpages.github.io). This is an interactive Jupyter notebook ([see more info here](http://jupyter-notebook-beginner-guide.readthedocs.io/en/latest/what_is_jupyter.html)). The core python code is also in `publications.py`. Run either from the `markdown_generator` folder after replacing `publications.tsv` with one containing your data.\n",
    "\n",
    "TODO: Make this work with BibTex and other databases of citations, rather than Stuart's non-standard TSV format and citation style.\n"
   ]
  },
  {
   "attachments": {},
   "cell_type": "markdown",
   "metadata": {},
   "source": [
    "## Data format\n",
    "\n",
    "The TSV needs to have the following columns: pub_date, title, venue, excerpt, citation, site_url, and paper_url, with a header at the top. \n",
    "\n",
    "- `excerpt` and `paper_url` can be blank, but the others must have values. \n",
    "- `pub_date` must be formatted as YYYY-MM-DD.\n",
    "- `url_slug` will be the descriptive part of the .md file and the permalink URL for the page about the paper. The .md file will be `YYYY-MM-DD-[url_slug].md` and the permalink will be `https://[yourdomain]/publications/YYYY-MM-DD-[url_slug]`\n",
    "\n",
    "This is how the raw file looks (it doesn't look pretty, use a spreadsheet or other program to edit and create)."
   ]
  },
  {
   "cell_type": "code",
   "execution_count": 4,
   "metadata": {
    "collapsed": false
   },
   "outputs": [],
   "source": [
    "# !cat publications.tsv"
   ]
  },
  {
   "attachments": {},
   "cell_type": "markdown",
   "metadata": {},
   "source": [
    "## Import pandas\n",
    "\n",
    "We are using the very handy pandas library for dataframes."
   ]
  },
  {
   "cell_type": "code",
   "execution_count": 17,
   "metadata": {
    "collapsed": true,
    "deletable": true,
    "editable": true
   },
   "outputs": [],
   "source": [
    "import pandas as pd"
   ]
  },
  {
   "attachments": {},
   "cell_type": "markdown",
   "metadata": {},
   "source": [
    "## Import TSV\n",
    "\n",
    "Pandas makes this easy with the read_csv function. We are using a TSV, so we specify the separator as a tab, or `\\t`.\n",
    "\n",
    "I found it important to put this data in a tab-separated values format, because there are a lot of commas in this kind of data and comma-separated values can get messed up. However, you can modify the import statement, as pandas also has read_excel(), read_json(), and others."
   ]
  },
  {
   "cell_type": "code",
   "execution_count": 18,
   "metadata": {
    "collapsed": false,
    "deletable": true,
    "editable": true
   },
   "outputs": [
    {
     "data": {
      "text/html": [
       "<div>\n",
       "<style scoped>\n",
       "    .dataframe tbody tr th:only-of-type {\n",
       "        vertical-align: middle;\n",
       "    }\n",
       "\n",
       "    .dataframe tbody tr th {\n",
       "        vertical-align: top;\n",
       "    }\n",
       "\n",
       "    .dataframe thead th {\n",
       "        text-align: right;\n",
       "    }\n",
       "</style>\n",
       "<table border=\"1\" class=\"dataframe\">\n",
       "  <thead>\n",
       "    <tr style=\"text-align: right;\">\n",
       "      <th></th>\n",
       "      <th>pub_date</th>\n",
       "      <th>title</th>\n",
       "      <th>venue</th>\n",
       "      <th>excerpt</th>\n",
       "      <th>citation</th>\n",
       "      <th>url_slug</th>\n",
       "      <th>paper_url</th>\n",
       "    </tr>\n",
       "  </thead>\n",
       "  <tbody>\n",
       "    <tr>\n",
       "      <th>0</th>\n",
       "      <td>2021-11-07</td>\n",
       "      <td>PowerDet:Efficient and Lightweight Object Dete...</td>\n",
       "      <td>CCIS2021</td>\n",
       "      <td>There are problems with the schemes in open el...</td>\n",
       "      <td>S. Wang, Z. Ou and M. Song, \"PowerDet: Efficie...</td>\n",
       "      <td>PowerDet:Efficient and Lightweight Object Dete...</td>\n",
       "      <td>https://ieeexplore.ieee.org/document/9754678</td>\n",
       "    </tr>\n",
       "    <tr>\n",
       "      <th>1</th>\n",
       "      <td>2023-01-18</td>\n",
       "      <td>Development and multi-center validation of mac...</td>\n",
       "      <td>eBioMedicine</td>\n",
       "      <td>Fungal keratitis (FK) is a leading cause of co...</td>\n",
       "      <td>Wei Z, Wang S, Wang Z, et al. Development and ...</td>\n",
       "      <td>Development and multi-center validation of mac...</td>\n",
       "      <td>https://www.thelancet.com/journals/ebiom/artic...</td>\n",
       "    </tr>\n",
       "    <tr>\n",
       "      <th>2</th>\n",
       "      <td>2022-11-14</td>\n",
       "      <td>Deep learning-based classification of infectio...</td>\n",
       "      <td>Therapeutic Advances in Chronic Disease</td>\n",
       "      <td>Infectious keratitis (IK) is an ocular emergen...</td>\n",
       "      <td>Zhang Z, Wang H, Wang S, et al. Deep learning-...</td>\n",
       "      <td>Deep learning-based classification of infectio...</td>\n",
       "      <td>https://journals.sagepub.com/doi/pdf/10.1177/2...</td>\n",
       "    </tr>\n",
       "  </tbody>\n",
       "</table>\n",
       "</div>"
      ],
      "text/plain": [
       "     pub_date                                              title  \\\n",
       "0  2021-11-07  PowerDet:Efficient and Lightweight Object Dete...   \n",
       "1  2023-01-18  Development and multi-center validation of mac...   \n",
       "2  2022-11-14  Deep learning-based classification of infectio...   \n",
       "\n",
       "                                     venue  \\\n",
       "0                                 CCIS2021   \n",
       "1                             eBioMedicine   \n",
       "2  Therapeutic Advances in Chronic Disease   \n",
       "\n",
       "                                             excerpt  \\\n",
       "0  There are problems with the schemes in open el...   \n",
       "1  Fungal keratitis (FK) is a leading cause of co...   \n",
       "2  Infectious keratitis (IK) is an ocular emergen...   \n",
       "\n",
       "                                            citation  \\\n",
       "0  S. Wang, Z. Ou and M. Song, \"PowerDet: Efficie...   \n",
       "1  Wei Z, Wang S, Wang Z, et al. Development and ...   \n",
       "2  Zhang Z, Wang H, Wang S, et al. Deep learning-...   \n",
       "\n",
       "                                            url_slug  \\\n",
       "0  PowerDet:Efficient and Lightweight Object Dete...   \n",
       "1  Development and multi-center validation of mac...   \n",
       "2  Deep learning-based classification of infectio...   \n",
       "\n",
       "                                           paper_url  \n",
       "0       https://ieeexplore.ieee.org/document/9754678  \n",
       "1  https://www.thelancet.com/journals/ebiom/artic...  \n",
       "2  https://journals.sagepub.com/doi/pdf/10.1177/2...  "
      ]
     },
     "execution_count": 18,
     "metadata": {},
     "output_type": "execute_result"
    }
   ],
   "source": [
    "publications = pd.read_excel(\"paper.xlsx\")\n",
    "publications\n"
   ]
  },
  {
   "attachments": {},
   "cell_type": "markdown",
   "metadata": {},
   "source": [
    "## Escape special characters\n",
    "\n",
    "YAML is very picky about how it takes a valid string, so we are replacing single and double quotes (and ampersands) with their HTML encoded equivilents. This makes them look not so readable in raw format, but they are parsed and rendered nicely."
   ]
  },
  {
   "cell_type": "code",
   "execution_count": 19,
   "metadata": {
    "collapsed": true,
    "deletable": true,
    "editable": true
   },
   "outputs": [],
   "source": [
    "html_escape_table = {\n",
    "    \"&\": \"&amp;\",\n",
    "    '\"': \"&quot;\",\n",
    "    \"'\": \"&apos;\"\n",
    "    }\n",
    "\n",
    "def html_escape(text):\n",
    "    \"\"\"Produce entities within text.\"\"\"\n",
    "    return \"\".join(html_escape_table.get(c,c) for c in text)"
   ]
  },
  {
   "attachments": {},
   "cell_type": "markdown",
   "metadata": {},
   "source": [
    "## Creating the markdown files\n",
    "\n",
    "This is where the heavy lifting is done. This loops through all the rows in the TSV dataframe, then starts to concatentate a big string (```md```) that contains the markdown for each type. It does the YAML metadata first, then does the description for the individual page."
   ]
  },
  {
   "cell_type": "code",
   "execution_count": 20,
   "metadata": {
    "collapsed": false,
    "deletable": true,
    "editable": true
   },
   "outputs": [],
   "source": [
    "import os\n",
    "for row, item in publications.iterrows():\n",
    "    \n",
    "    md_filename = str(item.pub_date) + \"-\" + item.url_slug + \".md\"\n",
    "    html_filename = str(item.pub_date) + \"-\" + item.url_slug\n",
    "    year = item.pub_date[:4]\n",
    "    \n",
    "    ## YAML variables\n",
    "    \n",
    "    md = \"---\\ntitle: \\\"\"   + item.title + '\"\\n'\n",
    "    \n",
    "    md += \"\"\"collection: publications\"\"\"\n",
    "    \n",
    "    md += \"\"\"\\npermalink: /publication/\"\"\" + html_filename\n",
    "    \n",
    "    if len(str(item.excerpt)) > 5:\n",
    "        md += \"\\nexcerpt: '\" + html_escape(item.excerpt) + \"'\"\n",
    "    \n",
    "    md += \"\\ndate: \" + str(item.pub_date) \n",
    "    \n",
    "    md += \"\\nvenue: '\" + html_escape(item.venue) + \"'\"\n",
    "    \n",
    "    if len(str(item.paper_url)) > 5:\n",
    "        md += \"\\npaperurl: '\" + item.paper_url + \"'\"\n",
    "    \n",
    "    md += \"\\ncitation: '\" + html_escape(item.citation) + \"'\"\n",
    "    \n",
    "    md += \"\\n---\"\n",
    "    \n",
    "    ## Markdown description for individual page\n",
    "        \n",
    "    if len(str(item.excerpt)) > 5:\n",
    "        md += \"\\n\" + html_escape(item.excerpt) + \"\\n\"\n",
    "    \n",
    "    if len(str(item.paper_url)) > 5:\n",
    "        md += \"\\n[Download paper here](\" + item.paper_url + \")\\n\" \n",
    "        \n",
    "    md += \"\\nRecommended citation: \" + item.citation\n",
    "    \n",
    "    md_filename = os.path.basename(md_filename)\n",
    "       \n",
    "    with open(\"../_publications/\" + md_filename, 'w') as f:\n",
    "        f.write(md)"
   ]
  },
  {
   "attachments": {},
   "cell_type": "markdown",
   "metadata": {},
   "source": [
    "These files are in the publications directory, one directory below where we're working from."
   ]
  },
  {
   "cell_type": "code",
   "execution_count": 10,
   "metadata": {
    "collapsed": false,
    "deletable": true,
    "editable": true
   },
   "outputs": [
    {
     "name": "stdout",
     "output_type": "stream",
     "text": [
      "'2021-11-07-PowerDet: Efficient and Lightweight Object Detection for Electric Power Open Scenes.md'\n"
     ]
    }
   ],
   "source": [
    "!ls ../_publications/"
   ]
  },
  {
   "cell_type": "code",
   "execution_count": 13,
   "metadata": {
    "collapsed": false,
    "deletable": true,
    "editable": true
   },
   "outputs": [
    {
     "name": "stdout",
     "output_type": "stream",
     "text": [
      "---\n",
      "title: \"PowerDet: Efficient and Lightweight Object Detection for Electric Power Open Scenes\"\n",
      "collection: publications\n",
      "permalink: /publication/2021-11-07-PowerDet: Efficient and Lightweight Object Detection for Electric Power Open Scenes\n",
      "excerpt: 'There are problems with the schemes in open electric power scenes, e.g., only able to detect single category, low detection accuracy of multi-scale objects, and difficulty in deploying models on mobile devices. To address the challenges mentioned above, we propose an object detection model, named PowerDet. It is able to detect 9 different types of power facilities efficiently with low cost.'\n",
      "date: 2021-11-07\n",
      "venue: 'CCIS2021'\n",
      "paperurl: 'https://ieeexplore.ieee.org/document/9754678'\n",
      "citation: 'S. Wang, Z. Ou and M. Song, &quot;PowerDet: Efficient and Lightweight Object Detection for Electric Power Open Scenes,&quot; 2021 IEEE 7th International Conference on Cloud Computing and Intelligent Systems (CCIS), Xi&apos;an, China, 2021, pp. 198-202, doi: 10.1109/CCIS53392.2021.9754678.'\n",
      "---\n",
      "There are problems with the schemes in open electric power scenes, e.g., only able to detect single category, low detection accuracy of multi-scale objects, and difficulty in deploying models on mobile devices. To address the challenges mentioned above, we propose an object detection model, named PowerDet. It is able to detect 9 different types of power facilities efficiently with low cost.\n",
      "\n",
      "[Download paper here](https://ieeexplore.ieee.org/document/9754678)\n",
      "\n",
      "Recommended citation: S. Wang, Z. Ou and M. Song, \"PowerDet: Efficient and Lightweight Object Detection for Electric Power Open Scenes,\" 2021 IEEE 7th International Conference on Cloud Computing and Intelligent Systems (CCIS), Xi'an, China, 2021, pp. 198-202, doi: 10.1109/CCIS53392.2021.9754678."
     ]
    }
   ],
   "source": [
    "!cat ../_publications/'2021-11-07-PowerDet: Efficient and Lightweight Object Detection for Electric Power Open Scenes.md'"
   ]
  },
  {
   "cell_type": "code",
   "execution_count": null,
   "metadata": {
    "collapsed": true,
    "deletable": true,
    "editable": true
   },
   "outputs": [],
   "source": []
  }
 ],
 "metadata": {
  "kernelspec": {
   "display_name": "Python 3",
   "language": "python",
   "name": "python3"
  },
  "language_info": {
   "codemirror_mode": {
    "name": "ipython",
    "version": 3
   },
   "file_extension": ".py",
   "mimetype": "text/x-python",
   "name": "python",
   "nbconvert_exporter": "python",
   "pygments_lexer": "ipython3",
   "version": "3.9.13"
  }
 },
 "nbformat": 4,
 "nbformat_minor": 0
}
